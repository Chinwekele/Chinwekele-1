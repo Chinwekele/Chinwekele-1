{
 "cells": [
  {
   "cell_type": "markdown",
   "id": "661fa23d",
   "metadata": {},
   "source": [
    "# Data Science Tools and Ecosystem"
   ]
  },
  {
   "cell_type": "markdown",
   "id": "7c335755",
   "metadata": {},
   "source": [
    "In this notebook, Data Science Tools and Ecosystem are summarized.\n",
    "\n",
    "there are different types and catergories of tools that Data Scientists use and popular examples of each. Also, be familiar with open source,cloud-based and commercial options for Data Science tools. "
   ]
  },
  {
   "cell_type": "markdown",
   "id": "0db31c44",
   "metadata": {},
   "source": [
    "**Objectives**\n",
    "-Python\n",
    "-SQL\n",
    "-R\n",
    "-Java"
   ]
  },
  {
   "cell_type": "markdown",
   "id": "8aa06909",
   "metadata": {},
   "source": [
    "Some of the popular languages that Data Scientists use are:\n",
    "1.SQL\n",
    "2.Java\n",
    "3.C++\n",
    "4.Javascript\n",
    "5.Julia"
   ]
  },
  {
   "cell_type": "markdown",
   "id": "9b10b6ea",
   "metadata": {},
   "source": [
    "Some of the commonly used libraries used by Data Scientists include:\n",
    "    1.Pandas\n",
    "    2.Numpy\n",
    "    3.Matplotlib\n",
    "    4.Seaborn\n",
    "    5.Scikit\n",
    "    6.Keras\n",
    "    7.Tensorflow\n",
    "    8.Pytorch"
   ]
  },
  {
   "cell_type": "markdown",
   "id": "9cbdd629",
   "metadata": {},
   "source": [
    "## Data Science Tools\n",
    "-----------------------------\n",
    "\n",
    "|Jupyter Lab|VisualStudio Code|Anaconda|"
   ]
  },
  {
   "cell_type": "markdown",
   "id": "4f159bcf",
   "metadata": {},
   "source": [
    "### Below are a few examples of evaluating arithmetic epressions in python"
   ]
  },
  {
   "cell_type": "code",
   "execution_count": null,
   "id": "239a4c2d",
   "metadata": {},
   "outputs": [],
   "source": [
    "This is a simple arithmetic expression to multiply and then add integers"
   ]
  },
  {
   "cell_type": "code",
   "execution_count": 18,
   "id": "b4564a9e",
   "metadata": {},
   "outputs": [
    {
     "data": {
      "text/plain": [
       "17"
      ]
     },
     "execution_count": 18,
     "metadata": {},
     "output_type": "execute_result"
    }
   ],
   "source": [
    "(3*4)+5"
   ]
  },
  {
   "cell_type": "code",
   "execution_count": null,
   "id": "7ea35c2d",
   "metadata": {},
   "outputs": [],
   "source": [
    "This will convert 200 minutes into hour by diving by 60"
   ]
  },
  {
   "cell_type": "code",
   "execution_count": 17,
   "id": "f31f72d5",
   "metadata": {},
   "outputs": [
    {
     "data": {
      "text/plain": [
       "3.3333333333333335"
      ]
     },
     "execution_count": 17,
     "metadata": {},
     "output_type": "execute_result"
    }
   ],
   "source": [
    "200/60"
   ]
  },
  {
   "cell_type": "markdown",
   "id": "1f71facd",
   "metadata": {},
   "source": [
    "## Author\n",
    "\n",
    "Chinwekele Munachimso Afonne"
   ]
  },
  {
   "cell_type": "code",
   "execution_count": null,
   "id": "2328145b",
   "metadata": {},
   "outputs": [],
   "source": []
  }
 ],
 "metadata": {
  "kernelspec": {
   "display_name": "Python 3 (ipykernel)",
   "language": "python",
   "name": "python3"
  },
  "language_info": {
   "codemirror_mode": {
    "name": "ipython",
    "version": 3
   },
   "file_extension": ".py",
   "mimetype": "text/x-python",
   "name": "python",
   "nbconvert_exporter": "python",
   "pygments_lexer": "ipython3",
   "version": "3.10.9"
  }
 },
 "nbformat": 4,
 "nbformat_minor": 5
}
